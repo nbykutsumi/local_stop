{
 "cells": [
  {
   "cell_type": "code",
   "execution_count": 1,
   "metadata": {},
   "outputs": [],
   "source": [
    "import numpy as np\n",
    "import pylab as pl\n",
    "import matplotlib.gridspec as gridspec\n",
    "from glob import glob\n",
    "import tensorflow as tf\n",
    "import numpy.ma as ma\n",
    "import sys,os\n",
    "from datetime import datetime, timedelta\n",
    "import myfunc.util as util\n",
    "from collections import deque\n",
    "from sklearn.decomposition import PCA\n",
    "%matplotlib inline"
   ]
  },
  {
   "cell_type": "code",
   "execution_count": 2,
   "metadata": {},
   "outputs": [
    {
     "name": "stdout",
     "output_type": "stream",
     "text": [
      "Define functions\n",
      "(179239, 273) (179239, 21) (179239,)\n"
     ]
    }
   ],
   "source": [
    "def mk_daylist(days=None, rat_train=1.0):\n",
    "    nall   = days\n",
    "    ntrain = int(nall*rat_train)\n",
    "    np.random.seed(0)\n",
    "\n",
    "    a1idx = range(nall)\n",
    "    a1idx = np.random.choice(a1idx, len(a1idx), replace=False)\n",
    "    a1idx_train = a1idx[:ntrain]\n",
    "    a1idx_valid = a1idx[ntrain:]\n",
    "\n",
    "    return a1idx_train,a1idx_valid\n",
    "\n",
    "\n",
    "def read_Tc(lDTime=None, ldydx=None, isurf=None):\n",
    "    a2tc = deque([])\n",
    "    for DTime in lDTime:\n",
    "        Year,Mon,Day = DTime.timetuple()[:3]\n",
    "        a2tcTmp = None\n",
    "        for idydx,(dy,dx) in enumerate(ldydx):\n",
    "            #srcDir = '/work/hk01/utsumi/PMM/stop/data/Tc/%04d/%02d/%02d'%(Year,Mon,Day)\n",
    "            srcDir = '/mnt/j/PMM/stop/data/Tc/%04d/%02d/%02d'%(Year,Mon,Day)\n",
    "            srcPath1=srcDir + '/Tc1.%ddy.%ddx.%02dsurf.npy'%(dy,dx,isurf)\n",
    "            srcPath2=srcDir + '/Tc2.%ddy.%ddx.%02dsurf.npy'%(dy,dx,isurf)\n",
    "            if not os.path.exists(srcPath1): continue\n",
    "            atc1 = np.load(srcPath1)\n",
    "            atc2 = np.load(srcPath2)\n",
    "            atc  = np.c_[atc1, atc2]\n",
    "\n",
    "            try:\n",
    "                a2tcTmp = np.c_[a2tcTmp, atc]\n",
    "            except ValueError:\n",
    "                a2tcTmp = atc\n",
    "\n",
    "        if a2tcTmp is None:\n",
    "            continue\n",
    "        else:\n",
    "            a2tcTmp = np.array(a2tcTmp)\n",
    "        #**********************\n",
    "        a2tc.extend(a2tcTmp)\n",
    "\n",
    "    return np.array(a2tc)\n",
    "\n",
    "def read_var_collect(varName=None, lDTime=None, ldydx=None, isurf=None):\n",
    "    a2var = deque([])\n",
    "    for DTime in lDTime:\n",
    "        Year,Mon,Day = DTime.timetuple()[:3]\n",
    "        a2varTmp = None\n",
    "        for idydx,(dy,dx) in enumerate(ldydx):\n",
    "            #srcDir = '/work/hk01/utsumi/PMM/stop/data/Tc/%04d/%02d/%02d'%(Year,Mon,Day)\n",
    "            srcDir = '/mnt/j/PMM/stop/data/%s/%04d/%02d/%02d'%(varName,Year,Mon,Day)\n",
    "            srcPath=srcDir + '/%s.%ddy.%ddx.%02dsurf.npy'%(varName,dy,dx,isurf)\n",
    "            if not os.path.exists(srcPath): continue\n",
    "            avar = np.load(srcPath)\n",
    "\n",
    "            try:\n",
    "                a2varTmp = np.c_[a2varTmp, avar]\n",
    "            except ValueError:\n",
    "                a2varTmp = avar\n",
    "\n",
    "        if a2varTmp is None:\n",
    "            continue\n",
    "        else:\n",
    "            a2varTmp = np.array(a2varTmp)\n",
    "        #**********************\n",
    "        a2var.extend(a2varTmp)\n",
    "    return np.array(a2var)\n",
    "\n",
    "def read_pc_coef(isurf):\n",
    "    #*********************************\n",
    "    # Read PC coefficient\n",
    "    #*********************************\n",
    "    #coefDir = '/work/hk01/utsumi/PMM/stop/data/coef'\n",
    "    coefDir = '/mnt/j/PMM/stop/data/coef'\n",
    "    egvecPath = coefDir + '/egvec.%02dch.%03dpix.%02dsurf.npy'%(ntc1+ntc2, len(ldydx),isurf)\n",
    "    egvalPath = coefDir + '/egval.%02dch.%03dpix.%02dsurf.npy'%(ntc1+ntc2, len(ldydx),isurf)\n",
    "    varratioPath = coefDir + '/varratio.%02dch.%03dpix.%02dsurf.npy'%(ntc1+ntc2, len(ldydx),isurf)\n",
    "    \n",
    "    a2egvec = np.load(egvecPath)  # (n-th, ncomb)\n",
    "    a1varratio = np.load(varratioPath)\n",
    "    a1cumvarratio= np.cumsum(a1varratio)\n",
    "    return a2egvec, a1varratio, a1cumvarratio\n",
    "\n",
    "def my_unit(x,Min,Max):\n",
    "    return (x-Min)/(Max-Min)\n",
    "\n",
    "\n",
    "print 'Define functions'\n",
    "\n",
    "ldy   = [-1,0,1]\n",
    "ldx   = [-3,-2,-1,0,1,2,3]\n",
    "#ldx   = [-2,-1,0,1,2]\n",
    "imid  = int((len(ldy)*len(ldx)-1)/2)\n",
    "ldydx = [[dy,dx] for dy in ldy for dx in ldx]\n",
    "isurf = 1\n",
    "ldays_train,ldays_valid = mk_daylist(days=31, rat_train=0.2)\n",
    "lDTime_train = [datetime(2017,1,1)+timedelta(days=i) for i in ldays_train]\n",
    "lDTime_valid = [datetime(2017,1,1)+timedelta(days=i) for i in ldays_valid]\n",
    "\n",
    "\n",
    "trainTc   = read_Tc(lDTime_train, ldydx, isurf)\n",
    "trainStop = read_var_collect('stop', lDTime_train, ldydx, isurf)\n",
    "trainLat  = read_var_collect('Latitude', lDTime_train, [[0,0]], isurf)\n",
    "\n",
    "print trainTc.shape, trainStop.shape, trainLat.shape"
   ]
  },
  {
   "cell_type": "code",
   "execution_count": 3,
   "metadata": {},
   "outputs": [
    {
     "name": "stdout",
     "output_type": "stream",
     "text": [
      "75874\n",
      "(75874, 273) (75874, 21) (75874,)\n"
     ]
    }
   ],
   "source": [
    "#latmin = -30\n",
    "#latmax = 30\n",
    "latmin=-90\n",
    "latmax=-20\n",
    "\n",
    "index_keep = []\n",
    "for i in range(trainTc.shape[0]):\n",
    "    lat = trainLat[i]\n",
    "    if (latmin<=lat)and(lat<=latmax):\n",
    "        index_keep.append(i)\n",
    "print len(index_keep)\n",
    "trainTc   = trainTc[index_keep]\n",
    "trainStop = trainStop[index_keep]\n",
    "trainLat  = trainLat[index_keep]\n",
    "print trainTc.shape, trainStop.shape, trainLat.shape"
   ]
  },
  {
   "cell_type": "code",
   "execution_count": 4,
   "metadata": {},
   "outputs": [
    {
     "name": "stdout",
     "output_type": "stream",
     "text": [
      "(75874, 273) [[1506.4084]\n",
      " [1671.7852]\n",
      " [2204.2183]\n",
      " ...\n",
      " [2432.14  ]\n",
      " [1643.8267]\n",
      " [1565.1613]]\n"
     ]
    }
   ],
   "source": [
    "nstorm = 1\n",
    "#nstorm = 21\n",
    "nostorm = len(ldy)*len(ldx)-nstorm\n",
    "if nstorm >1:\n",
    "    a1flagstop = ((trainStop>=0).sum(axis=1) >=nstorm)\n",
    "    trainTc   = trainTc[a1flagstop]\n",
    "    trainStop = trainStop[a1flagstop]\n",
    "trainTc.shape, trainStop.shape\n",
    "trainStop = trainStop[:,imid].reshape(-1,1)\n",
    "print trainTc.shape, trainStop"
   ]
  },
  {
   "cell_type": "code",
   "execution_count": 5,
   "metadata": {},
   "outputs": [],
   "source": [
    "# PC parameters\n",
    "restriction = 10\n",
    "#restriction = 20\n",
    "#amean = trainTc.mean(axis=0)\n",
    "#astd  = trainTc.std(axis=0)\n",
    "#pca = PCA(n_components=restriction)\n",
    "#pca.fit((trainTc-trainTc.mean(0))/trainTc.std(0))\n",
    "#a2egvec=pca.components_\n",
    "##a1egval=pca.explained_variance\n",
    "#a1varratio=pca.explained_variance_ratio_\n",
    "\n",
    "#*** preprocess parameters *******\n",
    "Mon=1\n",
    "preptype = 'nynx.%dx%d.isurf.%d.Mon.%d.Lat.%d.%d'%(len(ldy),len(ldx),isurf,Mon,latmin,latmax)\n",
    "paramDir = '/mnt/j/PMM/stop/prep-param/%s'%(preptype)\n",
    "\n",
    "#*** Tc mean, std *******\n",
    "meanPath = paramDir + '/mean.Tc.npy'\n",
    "stdPath  = paramDir + '/std.Tc.npy'\n",
    "ameanTc = np.load(meanPath)\n",
    "astdTc  = np.load(stdPath)\n",
    "\n",
    "#*** PC coefficient (eigen vector)\n",
    "egvecPath = paramDir + '/egvec.npy'\n",
    "varratioPath = paramDir + '/varratio.npy'\n",
    "a2egvec   = np.load(egvecPath)\n",
    "a1varratio= np.load(varratioPath)\n",
    "\n",
    "#*** PC min, max ***************\n",
    "minPath = paramDir + '/pc.min.npy'\n",
    "maxPath = paramDir + '/pc.max.npy'\n",
    "MinPC   = np.load(minPath)\n",
    "MaxPC   = np.load(maxPath)"
   ]
  },
  {
   "cell_type": "code",
   "execution_count": 6,
   "metadata": {},
   "outputs": [
    {
     "name": "stdout",
     "output_type": "stream",
     "text": [
      "(75874, 273) (75874, 1)\n"
     ]
    }
   ],
   "source": [
    "# resample\n",
    "resample_rate = 1.0\n",
    "N = int(trainTc.shape[0]*resample_rate)\n",
    "aidx = np.random.choice(np.arange(trainTc.shape[0]), N).astype('int32')\n",
    "trainTc  = trainTc[aidx,:]\n",
    "trainStop= trainStop[aidx,:]\n",
    "print trainTc.shape, trainStop.shape"
   ]
  },
  {
   "cell_type": "code",
   "execution_count": 7,
   "metadata": {},
   "outputs": [],
   "source": [
    "trainTc\n",
    "trainTc = (trainTc-ameanTc)/astdTc\n",
    "#reduction = np.dot(trainTc, a2egvec[:restriction,:].T)\n",
    "reduction = np.dot(trainTc, a2egvec[:restriction,:].T)"
   ]
  },
  {
   "cell_type": "code",
   "execution_count": 8,
   "metadata": {},
   "outputs": [
    {
     "name": "stdout",
     "output_type": "stream",
     "text": [
      "-78891.58 129740.97\n"
     ]
    }
   ],
   "source": [
    "#Max = [ np.max(Glabel[i]) for i in range(14) ]\n",
    "#Min = [ np.min(Glabel[i]) for i in range(14) ]\n",
    "#Max =  np.max(trainStop)\n",
    "#Min =  np.min(trainStop)\n",
    "MinStop = 0\n",
    "MaxStop = 32000\n",
    "#MinRed, MaxRed = -590, 1929\n",
    "\n",
    "print reduction.min(),reduction.max()\n",
    "\n",
    "def unit(x):\n",
    "    return ( x - np.min(x,0) )/( np.max(x,0) - np.min(x,0) )"
   ]
  },
  {
   "cell_type": "code",
   "execution_count": 9,
   "metadata": {},
   "outputs": [
    {
     "name": "stdout",
     "output_type": "stream",
     "text": [
      "(75874, 1)\n",
      "68286\n",
      "(75874, 10)\n",
      "[  -7.6241674 -311.9865    -590.8039      -4.838833    -6.9321785\n",
      "   -4.967272    -1.7738361   -6.125675    -1.6694157   -2.6868188]\n",
      "[1928.887      312.78076    655.85126     59.598923    24.301626\n",
      "    5.588452     3.46699      4.45609      6.349144     3.5090547]\n",
      "reduction= [[-2638.192      840.85254    -26.201782 ...   -12.365173   -39.24855\n",
      "     81.00221 ]\n",
      " [-2915.3618     967.8646     -15.552765 ...    19.87262    -36.515125\n",
      "     51.07289 ]\n",
      " [-2598.96       853.9012     -20.589447 ...    23.52649    -30.384562\n",
      "     87.21672 ]\n",
      " ...\n",
      " [-2836.7573     918.7902     -19.952515 ...    32.533142   -37.365345\n",
      "     88.793   ]\n",
      " [-3117.6763    1029.438       -6.556305 ...    30.835205    31.76625\n",
      "     41.856674]\n",
      " [-2773.2322     905.144      -25.521515 ...    15.46167    -36.016922\n",
      "     69.940765]]\n",
      "reduction.min, max -78891.58 129740.97\n",
      "trainX.min, max -125.774185 321.67294\n",
      "((68286, 10), (68286, 1), (7588, 10), (7588, 1))\n"
     ]
    }
   ],
   "source": [
    "aidx = np.random.choice(np.arange(len(trainStop)), len(trainStop))\n",
    "nTrain = int(len(aidx)*0.9)\n",
    "aidxTrain = aidx[:nTrain]\n",
    "aidxTest  = aidx[nTrain:]\n",
    "\n",
    "print trainStop.shape\n",
    "print nTrain\n",
    "print reduction.shape\n",
    "#trainX = unit(reduction)\n",
    "#trainY = unit(trainStop)\n",
    "trainX = my_unit(reduction,MinPC,MaxPC)\n",
    "#trainX = unit(reduction)\n",
    "trainY = my_unit(trainStop,MinStop,MaxStop)\n",
    "\n",
    "print MinPC\n",
    "print MaxPC\n",
    "print 'reduction=',reduction\n",
    "print 'reduction.min, max',reduction.min(), reduction.max()\n",
    "print 'trainX.min, max', trainX.min(), trainX.max()\n",
    "testX = trainX[aidxTest]\n",
    "testY = trainY[aidxTest]\n",
    "trainX= trainX[aidxTrain]\n",
    "trainY= trainY[aidxTrain]\n",
    "\n",
    "print(trainX.shape, trainY.shape, testX.shape, testY.shape)"
   ]
  },
  {
   "cell_type": "code",
   "execution_count": null,
   "metadata": {},
   "outputs": [],
   "source": []
  },
  {
   "cell_type": "code",
   "execution_count": 10,
   "metadata": {
    "scrolled": false
   },
   "outputs": [
    {
     "name": "stdout",
     "output_type": "stream",
     "text": [
      "[0.00000000e+00 1.46445046e-05 2.92890093e-05 ... 9.99970711e-01\n",
      " 9.99985355e-01 1.00000000e+00]\n",
      "[[1.00000000e+00 0.00000000e+00 0.00000000e+00 ... 0.00000000e+00\n",
      "  0.00000000e+00 0.00000000e+00]\n",
      " [1.00000000e+00 1.46445046e-05 2.14461516e-10 ... 3.09793411e-44\n",
      "  4.53677105e-49 6.64387647e-54]\n",
      " [1.00000000e+00 2.92890093e-05 8.57846066e-10 ... 1.58614226e-41\n",
      "  4.64565355e-46 1.36066590e-50]\n",
      " ...\n",
      " [1.00000000e+00 9.99970711e-01 9.99941423e-01 ... 9.99736430e-01\n",
      "  9.99707149e-01 9.99677868e-01]\n",
      " [1.00000000e+00 9.99985355e-01 9.99970711e-01 ... 9.99868207e-01\n",
      "  9.99853565e-01 9.99838922e-01]\n",
      " [1.00000000e+00 1.00000000e+00 1.00000000e+00 ... 1.00000000e+00\n",
      "  1.00000000e+00 1.00000000e+00]]\n"
     ]
    },
    {
     "data": {
      "image/png": "[encoded data removed]",
      "text/plain": [
       "<Figure size 1008x288 with 3 Axes>"
      ]
     },
     "metadata": {
      "needs_background": "light"
     },
     "output_type": "display_data"
    }
   ],
   "source": [
    "\n",
    "def uniformize(reduction, label):\n",
    "    mat = np.concatenate([reduction, label], axis=1)\n",
    "    temporary = []\n",
    "    for i in range(mat.shape[1]):\n",
    "        a = np.arange(len(mat)).reshape(-1,1)\n",
    "        b = np.concatenate([a,mat[:,[i]]], axis=1)\n",
    "        c = b[b[:,1].argsort()]\n",
    "        c[:,1] = np.arange(len(mat))/(len(mat)-1)\n",
    "        d = c[c[:,0].argsort()]\n",
    "        temporary.append(d[:,1])\n",
    "    input_data = (np.array(temporary).T)[:, :-1]\n",
    "    target     = (np.array(temporary).T)[:,[-1]]\n",
    "    return input_data, target\n",
    "def rmse(x,y):\n",
    "    x = x.flatten()\n",
    "    y = y.flatten()\n",
    "    return np.sqrt((((x-y))**2).mean())\n",
    "def Rmse(x,y):\n",
    "    Min,Max=MinStop,MaxStop\n",
    "    return np.sqrt( ( ( ((Max-Min)*x+Min).flatten()-((Max-Min)*y+Min).flatten() )**2 ).mean() )\n",
    "def cc(x,y):\n",
    "    return np.corrcoef( x.flatten(), y.flatten() )[0,1]\n",
    "def sort(x):\n",
    "    return np.sort(x.flatten())\n",
    "def unit(x):\n",
    "    return (x-np.min(x,0))/(np.max(x,0)-np.min(x,0))\n",
    "def f_act(x,label):\n",
    "    degree = 12\n",
    "    #y_val = np.sort(unit(label.flatten()))\n",
    "    y_val = np.sort(my_unit(label.flatten(),MinStop,MaxStop))\n",
    "    X     = (np.arange(len(y_val))/float(len(y_val)-1) )\n",
    "    mat   = np.concatenate([(X**i).reshape(-1,1) for i in range(degree)], axis=1)\n",
    "    print X\n",
    "    print mat\n",
    "    coef  = np.dot(np.linalg.inv(np.dot(mat.T,mat)), np.dot(mat.T, y_val))\n",
    "    poly  = sum([coef[i]*(x**i) for i in range(degree)])\n",
    "    return poly\n",
    "x = np.arange(100001)/float(100000)\n",
    "pl.figure(figsize=(14,4))\n",
    "pl.subplot(131)\n",
    "pl.plot(x,f_act(x,trainY))\n",
    "#pl.plot(np.arange(len(trainY))/float(len(trainY)-1),np.sort(unit(trainY.flatten())))\n",
    "pl.plot(np.arange(len(trainY))/float(len(trainY)-1),np.sort(my_unit(trainY.flatten(),MinStop,MaxStop)))\n",
    "pl.subplot(132)\n",
    "pl.plot(x, error_function(x, trainY, 100, 12, 1, 10))\n",
    "pl.subplot(133)\n",
    "_,_,_ = pl.hist(trainY, 100)"
   ]
  },
  {
   "cell_type": "code",
   "execution_count": 11,
   "metadata": {
    "scrolled": false
   },
   "outputs": [],
   "source": [
    "def Figure(Label, Prediction, bins):\n",
    "    Min,Max = MinStop, MaxStop\n",
    "    recover_testY = (Max-Min)*Label.flatten()      + Min\n",
    "    recover_pred  = (Max-Min)*Prediction.flatten() + Min\n",
    "\n",
    "    pl.figure(figsize=(15,15))\n",
    "    gs = gridspec.GridSpec(2,2, width_ratios=[1,1], height_ratios=[1,1])\n",
    "    \n",
    "    pl.subplot(gs[0,:])\n",
    "    pl.plot(recover_testY/1000., c='r', label ='Observation')\n",
    "    pl.plot(recover_pred /1000., c='b', label ='Prediction')\n",
    "    pl.ylabel('height(km)')\n",
    "    pl.ylim([0,18])\n",
    "    pl.legend()\n",
    "    pl.title('non-storm<=%d b=%d lat=[%.1f, %.1f] box=%dx%d'%(nostorm, bpara,latmin, latmax, len(ldy),len(ldx)))\n",
    "    print('RMSE:'     , np.round(rmse(Label, Prediction) , 4))\n",
    "    print('real RMSE:', np.round(Rmse(Label, Prediction) , 4))\n",
    "    print('CC:'       , np.round(  cc(Label, Prediction) , 4))\n",
    "    \n",
    "    pl.subplot(gs[2]) # values prediction and testY are between -4 and 4\n",
    "    aa = recover_pred\n",
    "    bb = recover_testY\n",
    "    interval           = np.array([ Min + (Max - Min)/bins*i for i in range(bins+1) ])\n",
    "    interval1          = np.array([ Min + (Max - Min)/bins*i for i in range(bins+1) ])\n",
    "    revised_interval   = interval[:-1]  + (Max - Min)/(2*bins)\n",
    "    revised_interval1  = interval1[:-1] + (Max - Min)/(2*bins)\n",
    "    cumulative_number  = []\n",
    "    cumulative_number1 = []\n",
    "    for i in range(bins):\n",
    "        cumulative_number.append(  (aa < interval[i+1] ).sum() - (aa < interval[i] ).sum() )\n",
    "        cumulative_number1.append( (bb < interval1[i+1]).sum() - (bb < interval1[i]).sum() )\n",
    "    pl.plot(revised_interval/.1000          , cumulative_number   , color='green', alpha=0.5, label='Prediction')    \n",
    "    pl.fill_between(revised_interval/.1000  , cumulative_number, 0, color='green', alpha=0.5)\n",
    "    pl.plot(revised_interval1/.1000         , cumulative_number1  , color='red'  , alpha=0.5 ,label='Observation')    \n",
    "    pl.fill_between(revised_interval1/.1000 ,cumulative_number1, 0, color='red'  , alpha=0.5)\n",
    "    pl.ylabel('number of samples')\n",
    "    pl.xlabel('height(km)')\n",
    "    pl.legend() \n",
    "    pl.title('Distribution')\n",
    "    pl.legend()\n",
    "\n",
    "    #*** 2D histogram **********\n",
    "    H,xbnd,ybnd = np.histogram2d(recover_testY/1000, recover_pred/1000, bins=[np.arange(0,20,0.5), np.arange(0,20,0.5)])\n",
    "    H = ma.masked_equal(H,0)\n",
    "    X,Y = np.meshgrid(xbnd,ybnd)\n",
    "    pl.subplot(gs[3])\n",
    "    pl.pcolormesh(X,Y,H.T, cmap='jet')\n",
    "    pl.axis([0,18,0,18])\n",
    "    pl.xticks([0,5,10,15])\n",
    "    pl.yticks([0,5,10,15])\n",
    "    pl.plot([0,35],[0,35],'k')\n",
    "    pl.xlabel('Observation(km)')\n",
    "    pl.ylabel('Prediction(km)')\n",
    "    pl.title('Correlation')\n",
    "    pl.grid()\n",
    "    pl.colorbar()\n",
    "    \n",
    "    #pl.scatter(recover_testY/1000, recover_pred/1000,s=3)\n",
    "    #pl.plot(np.arange(18000)/1000,np.arange(18000)/1000,c='black',linestyle = ':')\n",
    "    #pl.axis([0,18,0,18])\n",
    "    #pl.xticks([0,5,10,15])\n",
    "    #pl.yticks([0,5,10,15])\n",
    "    #pl.xlabel('Observation(km)')\n",
    "    #pl.ylabel('Prediction(km)')\n",
    "    #pl.title('Correlation')\n",
    "    #pl.grid()"
   ]
  },
  {
   "cell_type": "code",
   "execution_count": 12,
   "metadata": {},
   "outputs": [],
   "source": [
    "bpara  = 5\n",
    "degree = 12\n",
    "coef_b = bpara\n",
    "#coef_poly  = mk_coef_polyfit(testY, degree, coef_b)"
   ]
  },
  {
   "cell_type": "code",
   "execution_count": 13,
   "metadata": {},
   "outputs": [],
   "source": [
    "## Apply error function\n",
    "##Train, Label = unit(reduction), unit(label)\n",
    "##ntrain       = int(0.7*len(reduction))\n",
    "#print(trainX.shape, trainY.shape, testX.shape, testY.shape)\n",
    "##dim = [trainX.shape[2], 30, 30, 30,10, trainY.shape[1]]\n",
    "#dim = [trainX.shape[1], 30, 30, 30,10, trainY.shape[1]]\n",
    "#act = 2\n",
    "#expr= 'surf%d.b%d.lat.%d.%d'%(isurf,bpara,latmin,latmax)\n",
    "#prediction   = FFN(trainX, trainY, testX, testY, 0.005, 50, 1024*4, dim, act)\n",
    "##prediction   = FFN(trainX, trainY, testX, testY, 0.005, 150, 1024*4, dim, act)"
   ]
  },
  {
   "cell_type": "code",
   "execution_count": 14,
   "metadata": {},
   "outputs": [
    {
     "name": "stdout",
     "output_type": "stream",
     "text": [
      "(7588, 10)\n",
      "INFO:tensorflow:Restoring parameters from /mnt/j/PMM/stop/ml-param/surf1.b5.lat.-90.-20/stop.01\n",
      "Tensor(\"input:0\", shape=(?, 10), dtype=float32)\n",
      "Tensor(\"pred:0\", shape=(?, 1), dtype=float32)\n",
      "(7588, 1)\n",
      "testX.min, max -125.77302 321.67294\n",
      "prediction.min(),max() -0.27057302 4.0053024\n"
     ]
    }
   ],
   "source": [
    "\n",
    "#**** Checkpoints **********************\n",
    "expr= 'surf%d.b%d.lat.%d.%d'%(isurf,bpara,latmin,latmax)\n",
    "#ckptDir = '/work/hk01/utsumi/PMM/stop/ml-param-%d'%(act)\n",
    "ckptDir = '/mnt/j/PMM/stop/ml-param/%s'%(expr)\n",
    "ckptPath= ckptDir + '/stop.%02d'%(isurf)\n",
    "#******************************** \n",
    "print testX.shape\n",
    "with tf.Session() as sess:\n",
    "    saver = tf.train.import_meta_graph(ckptPath + '.meta')\n",
    "    saver.restore(sess, tf.train.latest_checkpoint(ckptDir + '/'))\n",
    "    graph = tf.get_default_graph()\n",
    "    X      = graph.get_tensor_by_name('input:0')\n",
    "    pred   = graph.get_tensor_by_name('pred:0')\n",
    "    print X\n",
    "    print pred\n",
    "    out    = sess.run(pred, feed_dict={X:testX})\n",
    "print out.shape\n",
    "prediction = out\n",
    "print 'testX.min, max', testX.min(), testX.max()\n",
    "print 'prediction.min(),max()',prediction.min(),prediction.max()"
   ]
  },
  {
   "cell_type": "code",
   "execution_count": 15,
   "metadata": {
    "scrolled": false
   },
   "outputs": [
    {
     "name": "stdout",
     "output_type": "stream",
     "text": [
      "('RMSE:', 0.3963)\n",
      "('real RMSE:', 12680.436)\n",
      "('CC:', -0.1006)\n"
     ]
    },
    {
     "data": {
      "image/png": "[encoded data removed]",
      "text/plain": [
       "<Figure size 1080x1080 with 4 Axes>"
      ]
     },
     "metadata": {
      "needs_background": "light"
     },
     "output_type": "display_data"
    }
   ],
   "source": [
    "Figure(testY, prediction, 50)"
   ]
  },
  {
   "cell_type": "code",
   "execution_count": null,
   "metadata": {},
   "outputs": [],
   "source": []
  },
  {
   "cell_type": "code",
   "execution_count": null,
   "metadata": {},
   "outputs": [],
   "source": []
  },
  {
   "cell_type": "code",
   "execution_count": null,
   "metadata": {},
   "outputs": [],
   "source": []
  },
  {
   "cell_type": "code",
   "execution_count": null,
   "metadata": {},
   "outputs": [],
   "source": []
  },
  {
   "cell_type": "code",
   "execution_count": null,
   "metadata": {},
   "outputs": [],
   "source": []
  },
  {
   "cell_type": "code",
   "execution_count": null,
   "metadata": {},
   "outputs": [],
   "source": []
  },
  {
   "cell_type": "code",
   "execution_count": null,
   "metadata": {},
   "outputs": [],
   "source": []
  },
  {
   "cell_type": "code",
   "execution_count": null,
   "metadata": {},
   "outputs": [],
   "source": []
  },
  {
   "cell_type": "code",
   "execution_count": null,
   "metadata": {},
   "outputs": [],
   "source": []
  },
  {
   "cell_type": "code",
   "execution_count": null,
   "metadata": {},
   "outputs": [],
   "source": []
  }
 ],
 "metadata": {
  "kernelspec": {
   "display_name": "Python 2",
   "language": "python",
   "name": "python2"
  },
  "language_info": {
   "codemirror_mode": {
    "name": "ipython",
    "version": 2
   },
   "file_extension": ".py",
   "mimetype": "text/x-python",
   "name": "python",
   "nbconvert_exporter": "python",
   "pygments_lexer": "ipython2",
   "version": "2.7.16"
  }
 },
 "nbformat": 4,
 "nbformat_minor": 2
}
