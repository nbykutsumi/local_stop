{
 "cells": [
  {
   "cell_type": "code",
   "execution_count": 1,
   "metadata": {},
   "outputs": [],
   "source": [
    "import numpy as np\n",
    "import pylab as pl\n",
    "import matplotlib.gridspec as gridspec\n",
    "from glob import glob\n",
    "import tensorflow as tf\n",
    "import numpy.ma as ma\n",
    "import sys,os\n",
    "from datetime import datetime, timedelta\n",
    "import myfunc.util as util\n",
    "from collections import deque\n",
    "from sklearn.decomposition import PCA\n",
    "%matplotlib inline"
   ]
  },
  {
   "cell_type": "code",
   "execution_count": 2,
   "metadata": {},
   "outputs": [
    {
     "name": "stdout",
     "output_type": "stream",
     "text": [
      "Define functions\n",
      "(179239, 273) (179239, 21) (179239,)\n"
     ]
    }
   ],
   "source": [
    "def mk_daylist(days=None, rat_train=1.0):\n",
    "    nall   = days\n",
    "    ntrain = int(nall*rat_train)\n",
    "    np.random.seed(0)\n",
    "\n",
    "    a1idx = range(nall)\n",
    "    a1idx = np.random.choice(a1idx, len(a1idx), replace=False)\n",
    "    a1idx_train = a1idx[:ntrain]\n",
    "    a1idx_valid = a1idx[ntrain:]\n",
    "\n",
    "    return a1idx_train,a1idx_valid\n",
    "\n",
    "\n",
    "def read_Tc(lDTime=None, ldydx=None, isurf=None):\n",
    "    a2tc = deque([])\n",
    "    for DTime in lDTime:\n",
    "        Year,Mon,Day = DTime.timetuple()[:3]\n",
    "        a2tcTmp = None\n",
    "        for idydx,(dy,dx) in enumerate(ldydx):\n",
    "            #srcDir = '/work/hk01/utsumi/PMM/stop/data/Tc/%04d/%02d/%02d'%(Year,Mon,Day)\n",
    "            srcDir = '/mnt/j/PMM/stop/data/Tc/%04d/%02d/%02d'%(Year,Mon,Day)\n",
    "            srcPath1=srcDir + '/Tc1.%ddy.%ddx.%02dsurf.npy'%(dy,dx,isurf)\n",
    "            srcPath2=srcDir + '/Tc2.%ddy.%ddx.%02dsurf.npy'%(dy,dx,isurf)\n",
    "            if not os.path.exists(srcPath1): continue\n",
    "            atc1 = np.load(srcPath1)\n",
    "            atc2 = np.load(srcPath2)\n",
    "            atc  = np.c_[atc1, atc2]\n",
    "\n",
    "            try:\n",
    "                a2tcTmp = np.c_[a2tcTmp, atc]\n",
    "            except ValueError:\n",
    "                a2tcTmp = atc\n",
    "\n",
    "        if a2tcTmp is None:\n",
    "            continue\n",
    "        else:\n",
    "            a2tcTmp = np.array(a2tcTmp)\n",
    "        #**********************\n",
    "        a2tc.extend(a2tcTmp)\n",
    "\n",
    "    return np.array(a2tc)\n",
    "\n",
    "def read_var_collect(varName=None, lDTime=None, ldydx=None, isurf=None):\n",
    "    a2var = deque([])\n",
    "    for DTime in lDTime:\n",
    "        Year,Mon,Day = DTime.timetuple()[:3]\n",
    "        a2varTmp = None\n",
    "        for idydx,(dy,dx) in enumerate(ldydx):\n",
    "            #srcDir = '/work/hk01/utsumi/PMM/stop/data/Tc/%04d/%02d/%02d'%(Year,Mon,Day)\n",
    "            srcDir = '/mnt/j/PMM/stop/data/%s/%04d/%02d/%02d'%(varName,Year,Mon,Day)\n",
    "            srcPath=srcDir + '/%s.%ddy.%ddx.%02dsurf.npy'%(varName,dy,dx,isurf)\n",
    "            if not os.path.exists(srcPath): continue\n",
    "            avar = np.load(srcPath)\n",
    "\n",
    "            try:\n",
    "                a2varTmp = np.c_[a2varTmp, avar]\n",
    "            except ValueError:\n",
    "                a2varTmp = avar\n",
    "\n",
    "        if a2varTmp is None:\n",
    "            continue\n",
    "        else:\n",
    "            a2varTmp = np.array(a2varTmp)\n",
    "        #**********************\n",
    "        a2var.extend(a2varTmp)\n",
    "    return np.array(a2var)\n",
    "\n",
    "def read_pc_coef(isurf):\n",
    "    #*********************************\n",
    "    # Read PC coefficient\n",
    "    #*********************************\n",
    "    #coefDir = '/work/hk01/utsumi/PMM/stop/data/coef'\n",
    "    coefDir = '/mnt/j/PMM/stop/data/coef'\n",
    "    egvecPath = coefDir + '/egvec.%02dch.%03dpix.%02dsurf.npy'%(ntc1+ntc2, len(ldydx),isurf)\n",
    "    egvalPath = coefDir + '/egval.%02dch.%03dpix.%02dsurf.npy'%(ntc1+ntc2, len(ldydx),isurf)\n",
    "    varratioPath = coefDir + '/varratio.%02dch.%03dpix.%02dsurf.npy'%(ntc1+ntc2, len(ldydx),isurf)\n",
    "    \n",
    "    a2egvec = np.load(egvecPath)  # (n-th, ncomb)\n",
    "    a1varratio = np.load(varratioPath)\n",
    "    a1cumvarratio= np.cumsum(a1varratio)\n",
    "    return a2egvec, a1varratio, a1cumvarratio\n",
    "\n",
    "def my_unit(x,Min,Max):\n",
    "    return (x-Min)/(Max-Min)\n",
    "\n",
    "\n",
    "print 'Define functions'\n",
    "\n",
    "ldy   = [-1,0,1]\n",
    "ldx   = [-3,-2,-1,0,1,2,3]\n",
    "#ldx   = [-2,-1,0,1,2]\n",
    "imid  = int((len(ldy)*len(ldx)-1)/2)\n",
    "ldydx = [[dy,dx] for dy in ldy for dx in ldx]\n",
    "isurf = 1\n",
    "ldays_train,ldays_valid = mk_daylist(days=31, rat_train=0.2)\n",
    "lDTime_train = [datetime(2017,1,1)+timedelta(days=i) for i in ldays_train]\n",
    "lDTime_valid = [datetime(2017,1,1)+timedelta(days=i) for i in ldays_valid]\n",
    "\n",
    "\n",
    "trainTc   = read_Tc(lDTime_train, ldydx, isurf)\n",
    "trainStop = read_var_collect('stop', lDTime_train, ldydx, isurf)\n",
    "trainLat  = read_var_collect('Latitude', lDTime_train, [[0,0]], isurf)\n",
    "\n",
    "print trainTc.shape, trainStop.shape, trainLat.shape"
   ]
  },
  {
   "cell_type": "code",
   "execution_count": 3,
   "metadata": {},
   "outputs": [
    {
     "name": "stdout",
     "output_type": "stream",
     "text": [
      "75874\n",
      "(75874, 273) (75874, 21) (75874,)\n"
     ]
    }
   ],
   "source": [
    "#latmin = -30\n",
    "#latmax = 30\n",
    "latmin=-90\n",
    "latmax=-20\n",
    "\n",
    "index_keep = []\n",
    "for i in range(trainTc.shape[0]):\n",
    "    lat = trainLat[i]\n",
    "    if (latmin<=lat)and(lat<=latmax):\n",
    "        index_keep.append(i)\n",
    "print len(index_keep)\n",
    "trainTc   = trainTc[index_keep]\n",
    "trainStop = trainStop[index_keep]\n",
    "trainLat  = trainLat[index_keep]\n",
    "print trainTc.shape, trainStop.shape, trainLat.shape"
   ]
  },
  {
   "cell_type": "code",
   "execution_count": 4,
   "metadata": {},
   "outputs": [
    {
     "name": "stdout",
     "output_type": "stream",
     "text": [
      "(75874, 273) [[1506.4084]\n",
      " [1671.7852]\n",
      " [2204.2183]\n",
      " ...\n",
      " [2432.14  ]\n",
      " [1643.8267]\n",
      " [1565.1613]]\n"
     ]
    }
   ],
   "source": [
    "nstorm = 1\n",
    "#nstorm = 21\n",
    "nostorm = len(ldy)*len(ldx)-nstorm\n",
    "if nstorm >1:\n",
    "    a1flagstop = ((trainStop>=0).sum(axis=1) >=nstorm)\n",
    "    trainTc   = trainTc[a1flagstop]\n",
    "    trainStop = trainStop[a1flagstop]\n",
    "trainTc.shape, trainStop.shape\n",
    "trainStop = trainStop[:,imid].reshape(-1,1)\n",
    "print trainTc.shape, trainStop"
   ]
  },
  {
   "cell_type": "code",
   "execution_count": 5,
   "metadata": {},
   "outputs": [
    {
     "name": "stdout",
     "output_type": "stream",
     "text": [
      "amean [168.67473  100.1354   197.53105  142.69406  223.58284  227.11801\n",
      " 186.86955  255.51662  239.57068  256.48926  251.74808  249.20486\n",
      " 254.76103  168.80101  100.357895 197.80608  143.19298  223.78047\n",
      " 227.4591   187.57716  255.37082  239.61072  256.0502   251.23547\n",
      " 249.11429  254.51726  168.89548  100.51855  198.03615  143.60532\n",
      " 223.94286  227.73792  188.17006  255.22519  239.59451  255.65324\n",
      " 250.75636  249.04677  254.30371  168.91492  100.55033  198.06458\n",
      " 143.65985  223.95013  227.74615  188.2018   255.10976  239.4248\n",
      " 255.4906   250.53671  249.02486  254.22903  168.84616  100.4294\n",
      " 197.83327  143.23863  223.73535  227.42476  187.52782  255.09595\n",
      " 239.15033  255.72368  250.77148  249.07968  254.37816  168.71759\n",
      " 100.201    197.48776  142.59831  223.40678  226.98369  186.59679\n",
      " 255.14609  238.87177  256.14206  251.23877  249.1728   254.62996\n",
      " 168.5688    99.933266 197.15141  141.97833  223.08614  226.5698\n",
      " 185.72148  255.18892  238.61803  256.53033  251.66734  249.25587\n",
      " 254.85571  169.45074  100.99896  198.45808  143.8419   224.49168\n",
      " 228.15715  188.299    256.30872  240.66415  257.23654  252.5322\n",
      " 249.93127  255.51338  169.62096  101.29974  198.9202   144.67383\n",
      " 224.86404  228.7864   189.58665  256.2326   241.03163  256.78354\n",
      " 252.0305   249.85039  255.27867  169.75699  101.53482  199.39084\n",
      " 145.52551  225.26454  229.50955  191.07227  256.24213  241.73572\n",
      " 256.31     251.53177  249.78499  255.05142  169.79405  101.60465\n",
      " 199.54407  145.8152   225.39131  229.76572  191.62076  256.21735\n",
      " 242.0609   256.04193  251.24596  249.75096  254.93184  169.7219\n",
      " 101.46949  199.19705  145.18019  225.03432  229.17737  190.41867\n",
      " 256.01044  241.07413  256.26355  251.40686  249.78415  255.04758\n",
      " 169.56322  101.18753  198.6459   144.1654   224.50081  228.35022\n",
      " 188.70549  255.90884  240.17062  256.70355  251.82922  249.86298\n",
      " 255.28647  169.38095  100.86316  198.17007  143.2917   224.05576\n",
      " 227.71481  187.37009  255.9042   239.66112  257.1053   252.25371\n",
      " 249.9413   255.50932  161.33784   92.89992  190.13257  135.373\n",
      " 216.17897  219.6994   179.50227  248.31621  232.40138  249.6405\n",
      " 245.00851  241.95964  247.7208   161.48799   93.17132  190.46573\n",
      " 135.98573  216.43944  220.12064  180.3851   248.25624  232.58263\n",
      " 249.36455  244.68411  241.90138  247.57057  161.6096    93.3856\n",
      " 190.77449  136.56117  216.68016  220.53993  181.27225  248.21915\n",
      " 232.78633  249.12637  244.40292  241.85468  247.44476  161.65097\n",
      "  93.46274  190.89604  136.79     216.74191  220.74084  181.69609\n",
      " 248.17265  232.82391  248.9908   244.24132  241.83365  247.3833\n",
      " 161.60066   93.36426  190.72726  136.46123  216.54463  220.4985\n",
      " 181.17339  248.0766   232.49872  249.02768  244.2661   241.84372\n",
      " 247.41508  161.47514   93.13637  190.38443  135.81306  216.2159\n",
      " 220.00298  180.121    247.99173  232.03632  249.20381  244.43622\n",
      " 241.88913  247.52026  161.3247    92.857544 190.02785  135.14206\n",
      " 215.8851   219.52525  179.10829  247.95482  231.65405  249.4265\n",
      " 244.66202  241.94206  247.65771 ]\n",
      "astd [ 98.08585   97.9475    99.34889  101.35614  100.095825  99.63234\n",
      " 103.10741   99.211685 100.77029   99.87642  100.36699   98.710304\n",
      "  99.20514   98.09847   97.97038   99.38209  101.43685  100.11445\n",
      "  99.649796 103.1504    99.20944  100.75098   99.879845 100.36495\n",
      "  98.715225  99.2144    98.10909   97.98941   99.41155  101.50408\n",
      " 100.13059   99.66526  103.18248   99.20679  100.73907   99.86918\n",
      " 100.34661   98.717125  99.21449   98.11449   98.00123   99.42443\n",
      " 101.54045  100.13978   99.6742   103.214745  99.20723  100.75038\n",
      "  99.86293  100.33721   98.717926  99.213394  98.11426   98.00478\n",
      "  99.415955 101.529434 100.13705   99.67141  103.237114  99.21381\n",
      " 100.78877   99.861855 100.33994   98.7151    99.20721   98.10948\n",
      "  97.9996    99.392365 101.48227  100.125725  99.659004 103.22768\n",
      "  99.218315 100.832924  99.850525 100.33121   98.7087    99.19182\n",
      "  98.10308   97.989716  99.367485 101.42587  100.110916  99.641785\n",
      " 103.195244  99.221115 100.86372   99.83522  100.31853   98.70364\n",
      "  99.176994  53.013996  53.625175  54.979706  59.193092  55.99249\n",
      "  55.114502  61.611477  53.98564   56.941967  55.168743  56.106388\n",
      "  53.137295  53.969112  53.039616  53.669533  55.05397   59.35374\n",
      "  56.030247  55.14873   61.65548   53.985924  56.851124  55.181213\n",
      "  56.11088   53.146828  53.987835  53.06068   53.70571   55.115196\n",
      "  59.468937  56.060936  55.167618  61.617718  53.99077   56.725307\n",
      "  55.16631   56.08909   53.15217   53.9912    53.072903  53.72945\n",
      "  55.146885  59.532978  56.079494  55.182446  61.6232    54.00859\n",
      "  56.714283  55.15463   56.07688   53.15525   53.991783  53.074463\n",
      "  53.73951   55.141357  59.55537   56.08664   55.19936   61.771202\n",
      "  54.00856   56.876343  55.157944  56.08034   53.150814  53.983234\n",
      "  53.0672    53.73494   55.10266   59.50177   56.073997  55.193142\n",
      "  61.863777  54.008556  57.037846  55.14678   56.072716  53.140945\n",
      "  53.96075   53.05492   53.719612  55.05295   59.403652  56.05001\n",
      "  55.16678   61.849583  54.01024   57.135178  55.121143  56.051178\n",
      "  53.130993  53.934322 290.68356  288.90662  291.83643  291.15335\n",
      " 292.75995  292.6862   292.87622  293.2701   293.41245  293.52222\n",
      " 293.57455  292.91846  293.23672  290.6917   288.92105  291.8577\n",
      " 291.2003   292.77393  292.7047   292.9153   293.269    293.41074\n",
      " 293.51834  293.5687   292.9188   293.23654  290.6992   288.93274\n",
      " 291.87717  291.23965  292.78543  292.721    292.94333  293.26956\n",
      " 293.4081   293.51538  293.56363  292.91876  293.23563  290.70282\n",
      " 288.93906  291.88733  291.2631   292.79196  292.7302   292.96295\n",
      " 293.26978  293.4104   293.51135  293.55902  292.91818  293.23386\n",
      " 290.70242  288.9388   291.88385  291.26205  292.7882   292.72656\n",
      " 292.9676   293.26837  293.4151   293.50998  293.5574   292.9181\n",
      " 293.233    290.6981   288.93292  291.86945  291.23734  292.77725\n",
      " 292.7124   292.9514   293.26584  293.41888  293.50998  293.55658\n",
      " 292.91797  293.23126  290.69205  288.92316  291.85208  291.20282\n",
      " 292.7638   292.6949   292.9196   293.26508  293.42148  293.50854\n",
      " 293.55518  292.9177   293.2285  ]\n"
     ]
    }
   ],
   "source": [
    "# PC parameters\n",
    "restriction = 10\n",
    "#restriction = 20\n",
    "amean = trainTc.mean(axis=0)\n",
    "astd  = trainTc.std(axis=0)\n",
    "pca = PCA(n_components=restriction)\n",
    "pca.fit((trainTc-amean)/astd)\n",
    "a2egvec=pca.components_\n",
    "#a1egval=pca.explained_variance\n",
    "a1varratio=pca.explained_variance_ratio_\n",
    "print 'amean',amean\n",
    "print 'astd',astd"
   ]
  },
  {
   "cell_type": "code",
   "execution_count": 6,
   "metadata": {},
   "outputs": [
    {
     "name": "stdout",
     "output_type": "stream",
     "text": [
      "(75874, 273) (75874, 1)\n"
     ]
    }
   ],
   "source": [
    "# resample\n",
    "resample_rate = 1.0\n",
    "N = int(trainTc.shape[0]*resample_rate)\n",
    "aidx = np.random.choice(np.arange(trainTc.shape[0]), N).astype('int32')\n",
    "trainTc  = trainTc[aidx,:]\n",
    "trainStop= trainStop[aidx,:]\n",
    "print trainTc.shape, trainStop.shape"
   ]
  },
  {
   "cell_type": "code",
   "execution_count": 7,
   "metadata": {},
   "outputs": [],
   "source": [
    "trainTc = (trainTc-amean)/astd\n",
    "#reduction = np.dot(trainTc, a2egvec[:restriction,:].T)\n",
    "reduction = np.dot(trainTc, a2egvec[:restriction,:].T)"
   ]
  },
  {
   "cell_type": "code",
   "execution_count": 10,
   "metadata": {},
   "outputs": [
    {
     "name": "stdout",
     "output_type": "stream",
     "text": [
      "/mnt/j/PMM/stop/prep-param/nynx.3x7.isurf.1.Mon.1.Lat.-90.-20/pc.min.npy\n"
     ]
    }
   ],
   "source": [
    "#*** Save preprocess parameters *******\n",
    "Mon=1\n",
    "preptype = 'nynx.%dx%d.isurf.%d.Mon.%d.Lat.%d.%d'%(len(ldy),len(ldx),isurf,Mon,latmin,latmax)\n",
    "paramDir = '/mnt/j/PMM/stop/prep-param/%s'%(preptype)\n",
    "util.mk_dir(paramDir)\n",
    "\n",
    "#*** Save Tc mean, std *******\n",
    "meanPath = paramDir + '/mean.Tc.npy'\n",
    "stdPath  = paramDir + '/std.Tc.npy'\n",
    "np.save(meanPath, amean)\n",
    "np.save(stdPath,  astd)\n",
    "\n",
    "#*** PC coefficient (eigen vector)\n",
    "egvecPath = paramDir + '/egvec.npy'\n",
    "#egvalPath = paramDir + '/egval.npy'\n",
    "varratioPath = paramDir + '/varratio.npy'\n",
    "np.save(egvecPath, a2egvec.astype('float32'))\n",
    "np.save(varratioPath, a1varratio.astype('float32'))\n",
    "\n",
    "#*** PC min, max ***************\n",
    "minPath = paramDir + '/pc.min.npy'\n",
    "maxPath = paramDir + '/pc.max.npy'\n",
    "np.save(minPath, reduction.min(axis=0))\n",
    "np.save(maxPath, reduction.max(axis=0))\n",
    "print minPath"
   ]
  },
  {
   "cell_type": "code",
   "execution_count": 11,
   "metadata": {},
   "outputs": [
    {
     "name": "stdout",
     "output_type": "stream",
     "text": [
      "-590.8039 1928.887\n"
     ]
    }
   ],
   "source": [
    "#Max = [ np.max(Glabel[i]) for i in range(14) ]\n",
    "#Min = [ np.min(Glabel[i]) for i in range(14) ]\n",
    "#Max =  np.max(trainStop)\n",
    "#Min =  np.min(trainStop)\n",
    "MinStop = 0\n",
    "MaxStop = 32000\n",
    "#MinRed, MaxRed = -590, 1929\n",
    "\n",
    "print reduction.min(),reduction.max()\n",
    "\n",
    "def unit(x):\n",
    "    return ( x - np.min(x,0) )/( np.max(x,0) - np.min(x,0) )"
   ]
  },
  {
   "cell_type": "code",
   "execution_count": 12,
   "metadata": {},
   "outputs": [
    {
     "name": "stdout",
     "output_type": "stream",
     "text": [
      "(75874, 1)\n",
      "68286\n",
      "(75874, 10)\n",
      "((68286, 10), (68286, 1), (7588, 10), (7588, 1))\n",
      "reduction= [[ 1.1410028   0.45172924 -0.41789272 ...  0.60363996 -0.00486456\n",
      "  -0.12276661]\n",
      " [-0.42342505  0.17509787 -0.1280708  ...  0.29422832 -0.25222287\n",
      "   0.10674152]\n",
      " [-0.62152684 -0.10087861 -0.4709673  ... -0.10944871 -0.24449506\n",
      "  -0.82103467]\n",
      " ...\n",
      " [-3.1644602  -0.2591672   0.8345165  ...  0.76006913  0.18561949\n",
      "  -0.20415023]\n",
      " [ 1.7654954   0.5230044  -0.56741613 ...  0.15257972  0.23407608\n",
      "  -0.09354596]\n",
      " [ 1.6993976   0.4684761  -0.55782473 ...  0.22944903 -0.01163778\n",
      "  -0.07017997]]\n",
      "reduction.min, max -590.8039 1928.887\n",
      "trainX.min, max 0.0 1.0\n"
     ]
    }
   ],
   "source": [
    "aidx = np.random.choice(np.arange(len(trainStop)), len(trainStop))\n",
    "nTrain = int(len(aidx)*0.9)\n",
    "aidxTrain = aidx[:nTrain]\n",
    "aidxTest  = aidx[nTrain:]\n",
    "\n",
    "print trainStop.shape\n",
    "print nTrain\n",
    "print reduction.shape\n",
    "trainX = unit(reduction)\n",
    "#trainY = unit(trainStop)\n",
    "#trainX = my_unit(reduction,MinRed,MaxRed)\n",
    "trainY = my_unit(trainStop,MinStop,MaxStop)\n",
    "\n",
    "testX = trainX[aidxTest]\n",
    "testY = trainY[aidxTest]\n",
    "trainX= trainX[aidxTrain]\n",
    "trainY= trainY[aidxTrain]\n",
    "\n",
    "print(trainX.shape, trainY.shape, testX.shape, testY.shape)\n",
    "\n",
    "print 'reduction=',reduction\n",
    "print 'reduction.min, max',reduction.min(), reduction.max()\n",
    "print 'trainX.min, max', trainX.min(), trainX.max()"
   ]
  },
  {
   "cell_type": "code",
   "execution_count": null,
   "metadata": {},
   "outputs": [],
   "source": []
  },
  {
   "cell_type": "code",
   "execution_count": 13,
   "metadata": {
    "scrolled": false
   },
   "outputs": [
    {
     "name": "stdout",
     "output_type": "stream",
     "text": [
      "[0.00000000e+00 1.46445046e-05 2.92890093e-05 ... 9.99970711e-01\n",
      " 9.99985355e-01 1.00000000e+00]\n",
      "[[1.00000000e+00 0.00000000e+00 0.00000000e+00 ... 0.00000000e+00\n",
      "  0.00000000e+00 0.00000000e+00]\n",
      " [1.00000000e+00 1.46445046e-05 2.14461516e-10 ... 3.09793411e-44\n",
      "  4.53677105e-49 6.64387647e-54]\n",
      " [1.00000000e+00 2.92890093e-05 8.57846066e-10 ... 1.58614226e-41\n",
      "  4.64565355e-46 1.36066590e-50]\n",
      " ...\n",
      " [1.00000000e+00 9.99970711e-01 9.99941423e-01 ... 9.99736430e-01\n",
      "  9.99707149e-01 9.99677868e-01]\n",
      " [1.00000000e+00 9.99985355e-01 9.99970711e-01 ... 9.99868207e-01\n",
      "  9.99853565e-01 9.99838922e-01]\n",
      " [1.00000000e+00 1.00000000e+00 1.00000000e+00 ... 1.00000000e+00\n",
      "  1.00000000e+00 1.00000000e+00]]\n"
     ]
    },
    {
     "data": {
      "image/png": "[encoded data removed]",
      "text/plain": [
       "<Figure size 1008x288 with 3 Axes>"
      ]
     },
     "metadata": {
      "needs_background": "light"
     },
     "output_type": "display_data"
    }
   ],
   "source": [
    "def FFN(TraX, TraY, TesX, TesY, learning_rate, epochs, batch_size, dim, act): \n",
    "    fn1 = tf.nn.sigmoid\n",
    "    fn2 = tf.nn.relu\n",
    "    def fn3(x):\n",
    "        return x/(1+np.abs(x))\n",
    "    ac  = [fn1,fn3,fn1,fn3,fn1,fn1,fn1,fn1,fn1,fn1,fn1,fn1,fn1,fn1] # number of entry = len(dim) - 2\n",
    "    total_batch = int(len(TraX)/batch_size) + 1\n",
    "    Xdata = [ TraX[i*batch_size:(i+1)*batch_size] for i in range(total_batch) ]\n",
    "    Ydata = [ TraY[i*batch_size:(i+1)*batch_size] for i in range(total_batch) ]\n",
    "    \n",
    "    tf.reset_default_graph()\n",
    "    X = tf.placeholder(tf.float32, [None, TraX.shape[1]], 'input')\n",
    "    Y = tf.placeholder(tf.float32, [None, TraY.shape[1]])\n",
    "        \n",
    "    W = [ tf.Variable(tf.random_normal([dim[i], dim[i+1]]), name='w%d'%(i)) for i in range(len(dim) - 1) ]\n",
    "    b = [ tf.Variable(tf.random_normal([dim[i+1]]), name='b%d'%(i))         for i in range(len(dim) - 1) ]\n",
    "    A = [ X ]\n",
    "    for i in range(len(dim) - 2):\n",
    "        A.append(ac[i](tf.matmul(A[-1], W[i]) + b[i]))\n",
    "    A.append(tf.matmul(A[-1], W[-1]) + b[-1])  \n",
    "    if act == 0:\n",
    "        cost = tf.sqrt(tf.reduce_mean(tf.reduce_mean(tf.square(Y - A[-1]) ))) \n",
    "    elif act == 1:\n",
    "        cost = tf.sqrt(tf.reduce_mean(tf.reduce_mean(tf.square(Y - A[-1])*error_function(Y,label,100,12,1,bpara) ))) \n",
    "    elif act == 2:\n",
    "        cost = tf.sqrt(tf.reduce_mean(tf.reduce_mean(tf.square(Y - A[-1])*my_error_func(Y, coef_poly )))) \n",
    "\n",
    "    gogo = tf.train.AdamOptimizer(learning_rate).minimize(cost)\n",
    "    real = tf.placeholder(tf.float32, [None, TraY.shape[1]])\n",
    "    pred = tf.placeholder(tf.float32, [None, TraY.shape[1]])\n",
    "    rmse = tf.sqrt(tf.reduce_mean(tf.reduce_mean(tf.square(real - pred))))\n",
    "    prediction=tf.add(tf.matmul(A[-2], W[-1]), b[-1], name='pred')  # for Save\n",
    "    sess = tf.Session()\n",
    "    sess.run(tf.global_variables_initializer())\n",
    "\n",
    "    #*** Saver ********\n",
    "    saver = tf.train.Saver(max_to_keep=3)\n",
    "    #******************\n",
    "\n",
    "    for epoch in range(epochs):    \n",
    "        for i in range(total_batch):\n",
    "            feed1 = {X:Xdata[i], Y:Ydata[i]}\n",
    "            sess.run(gogo, feed_dict = feed1)\n",
    "            training_error = sess.run(cost, feed_dict = feed1)\n",
    "            prediction     = sess.run(A[-1], feed_dict = {X:TesX})\n",
    "            test_error     = sess.run(rmse, feed_dict = {real:TesY, pred:prediction})\n",
    "        if epoch % int(epochs/5) == 0:    \n",
    "            print('Training Error:',training_error,'and','Testing Error:', test_error)\n",
    "\n",
    "            #**** Save **********************\n",
    "            #ckptDir = '/work/hk01/utsumi/PMM/stop/ml-param-%d'%(act)\n",
    "            ckptDir = '/mnt/j/PMM/stop/ml-param/%s'%(expr)\n",
    "            util.mk_dir(ckptDir)\n",
    "            ckptPath= ckptDir + '/stop.%02d'%(isurf)\n",
    "            sv = saver.save(sess, ckptPath)\n",
    "            #******************************** \n",
    "            \n",
    "    return prediction\n",
    "\n",
    "\n",
    "#def my_unit(x,Min,Max):\n",
    "#    return (x-Min)/(Max-Min)\n",
    "\n",
    "def mk_coef_polyfit(a1obs, degree, coef_b):\n",
    "    # a1obs must be in range of [0,1]\n",
    "    nbins = 100\n",
    "    a1bnd = np.arange(nbins+1).astype('float32')/(nbins)\n",
    "    frequency,_ = np.histogram(a1obs, bins=a1bnd)\n",
    "    g = (coef_b - 1)*(-frequency/float(frequency.max()) +1)+1\n",
    "    x = 0.5*(a1bnd[:-1]+a1bnd[1:])\n",
    "    coef = np.polyfit(x,g,deg=degree)  # highest degree coef first.\n",
    "    print 'coef.shape=',coef.shape\n",
    "    return coef[::-1]\n",
    "\n",
    "def my_error_func(a1obs, coef):\n",
    "    degree = len(coef)-1\n",
    "    for i in range(degree+1):\n",
    "        if i==0:\n",
    "            y = coef[i]*(a1obs**i)\n",
    "        else:\n",
    "            y = y + coef[i]*(a1obs**i)\n",
    "    return y\n",
    "\n",
    "\n",
    "    \n",
    "def error_function(x, data, bins, degree, Min, Max):\n",
    "    vec       = ((data - np.min(data,0))/float(np.max(data,0)-np.min(data,0)))\n",
    "    interval  = [ i/float(bins) for i in range(bins + 1)]\n",
    "    frequency = np.array([ ((vec<=interval[i+1]).sum() - (vec<interval[i]).sum())/float(len(vec)) for i in range(bins) ])\n",
    "    xx        = np.arange(bins)/float(bins - 1)\n",
    "    mat       = np.concatenate([(xx**i).reshape(-1,1) for i in range(degree)], axis=1)\n",
    "    #print mat\n",
    "    #print frequency\n",
    "    coef      = np.dot(np.linalg.inv(np.dot(mat.T,mat)), np.dot(mat.T, frequency))\n",
    "    poly      = 1 - sum([coef[i]*(x**i) for i in range(degree)])\n",
    "    values    = 1 - sum([coef[i]*(xx**i) for i in range(degree)])\n",
    "    M, N      = np.max(values), np.min(values)\n",
    "    return (Max - Min)/float(M - N)*(poly - N) + Min \n",
    "def uniformize(reduction, label):\n",
    "    mat = np.concatenate([reduction, label], axis=1)\n",
    "    temporary = []\n",
    "    for i in range(mat.shape[1]):\n",
    "        a = np.arange(len(mat)).reshape(-1,1)\n",
    "        b = np.concatenate([a,mat[:,[i]]], axis=1)\n",
    "        c = b[b[:,1].argsort()]\n",
    "        c[:,1] = np.arange(len(mat))/(len(mat)-1)\n",
    "        d = c[c[:,0].argsort()]\n",
    "        temporary.append(d[:,1])\n",
    "    input_data = (np.array(temporary).T)[:, :-1]\n",
    "    target     = (np.array(temporary).T)[:,[-1]]\n",
    "    return input_data, target\n",
    "def rmse(x,y):\n",
    "    x = x.flatten()\n",
    "    y = y.flatten()\n",
    "    return np.sqrt((((x-y))**2).mean())\n",
    "def Rmse(x,y):\n",
    "    Min,Max=MinStop,MaxStop\n",
    "    return np.sqrt( ( ( ((Max-Min)*x+Min).flatten()-((Max-Min)*y+Min).flatten() )**2 ).mean() )\n",
    "def cc(x,y):\n",
    "    return np.corrcoef( x.flatten(), y.flatten() )[0,1]\n",
    "def sort(x):\n",
    "    return np.sort(x.flatten())\n",
    "def unit(x):\n",
    "    return (x-np.min(x,0))/(np.max(x,0)-np.min(x,0))\n",
    "def f_act(x,label):\n",
    "    degree = 12\n",
    "    #y_val = np.sort(unit(label.flatten()))\n",
    "    y_val = np.sort(my_unit(label.flatten(),MinStop,MaxStop))\n",
    "    X     = (np.arange(len(y_val))/float(len(y_val)-1) )\n",
    "    mat   = np.concatenate([(X**i).reshape(-1,1) for i in range(degree)], axis=1)\n",
    "    print X\n",
    "    print mat\n",
    "    coef  = np.dot(np.linalg.inv(np.dot(mat.T,mat)), np.dot(mat.T, y_val))\n",
    "    poly  = sum([coef[i]*(x**i) for i in range(degree)])\n",
    "    return poly\n",
    "x = np.arange(100001)/float(100000)\n",
    "pl.figure(figsize=(14,4))\n",
    "pl.subplot(131)\n",
    "pl.plot(x,f_act(x,trainY))\n",
    "#pl.plot(np.arange(len(trainY))/float(len(trainY)-1),np.sort(unit(trainY.flatten())))\n",
    "pl.plot(np.arange(len(trainY))/float(len(trainY)-1),np.sort(my_unit(trainY.flatten(),MinStop,MaxStop)))\n",
    "pl.subplot(132)\n",
    "pl.plot(x, error_function(x, trainY, 100, 12, 1, 10))\n",
    "pl.subplot(133)\n",
    "_,_,_ = pl.hist(trainY, 100)"
   ]
  },
  {
   "cell_type": "code",
   "execution_count": 14,
   "metadata": {
    "scrolled": false
   },
   "outputs": [],
   "source": [
    "def Figure(Label, Prediction, bins):\n",
    "    Min,Max = MinStop, MaxStop\n",
    "    recover_testY = (Max-Min)*Label.flatten()      + Min\n",
    "    recover_pred  = (Max-Min)*Prediction.flatten() + Min\n",
    "\n",
    "    pl.figure(figsize=(15,15))\n",
    "    gs = gridspec.GridSpec(2,2, width_ratios=[1,1], height_ratios=[1,1])\n",
    "    \n",
    "    pl.subplot(gs[0,:])\n",
    "    pl.plot(recover_testY/1000., c='r', label ='Observation')\n",
    "    pl.plot(recover_pred /1000., c='b', label ='Prediction')\n",
    "    pl.ylabel('height(km)')\n",
    "    pl.ylim([0,18])\n",
    "    pl.legend()\n",
    "    pl.title('non-storm<=%d act=%d b=%d lat=[%.1f, %.1f] box=%dx%d'%(nostorm,act, bpara,latmin, latmax, len(ldy),len(ldx)))\n",
    "    print('RMSE:'     , np.round(rmse(Label, Prediction) , 4))\n",
    "    print('real RMSE:', np.round(Rmse(Label, Prediction) , 4))\n",
    "    print('CC:'       , np.round(  cc(Label, Prediction) , 4))\n",
    "    \n",
    "    pl.subplot(gs[2]) # values prediction and testY are between -4 and 4\n",
    "    aa = recover_pred\n",
    "    bb = recover_testY\n",
    "    interval           = np.array([ Min + (Max - Min)/bins*i for i in range(bins+1) ])\n",
    "    interval1          = np.array([ Min + (Max - Min)/bins*i for i in range(bins+1) ])\n",
    "    revised_interval   = interval[:-1]  + (Max - Min)/(2*bins)\n",
    "    revised_interval1  = interval1[:-1] + (Max - Min)/(2*bins)\n",
    "    cumulative_number  = []\n",
    "    cumulative_number1 = []\n",
    "    for i in range(bins):\n",
    "        cumulative_number.append(  (aa < interval[i+1] ).sum() - (aa < interval[i] ).sum() )\n",
    "        cumulative_number1.append( (bb < interval1[i+1]).sum() - (bb < interval1[i]).sum() )\n",
    "    pl.plot(revised_interval/.1000          , cumulative_number   , color='green', alpha=0.5, label='Prediction')    \n",
    "    pl.fill_between(revised_interval/.1000  , cumulative_number, 0, color='green', alpha=0.5)\n",
    "    pl.plot(revised_interval1/.1000         , cumulative_number1  , color='red'  , alpha=0.5 ,label='Observation')    \n",
    "    pl.fill_between(revised_interval1/.1000 ,cumulative_number1, 0, color='red'  , alpha=0.5)\n",
    "    pl.ylabel('number of samples')\n",
    "    pl.xlabel('height(km)')\n",
    "    pl.legend() \n",
    "    pl.title('Distribution')\n",
    "    pl.legend()\n",
    "\n",
    "    #*** 2D histogram **********\n",
    "    H,xbnd,ybnd = np.histogram2d(recover_testY/1000, recover_pred/1000, bins=[np.arange(0,20,0.5), np.arange(0,20,0.5)])\n",
    "    H = ma.masked_equal(H,0)\n",
    "    X,Y = np.meshgrid(xbnd,ybnd)\n",
    "    pl.subplot(gs[3])\n",
    "    pl.pcolormesh(X,Y,H.T, cmap='jet')\n",
    "    pl.axis([0,18,0,18])\n",
    "    pl.xticks([0,5,10,15])\n",
    "    pl.yticks([0,5,10,15])\n",
    "    pl.plot([0,35],[0,35],'k')\n",
    "    pl.xlabel('Observation(km)')\n",
    "    pl.ylabel('Prediction(km)')\n",
    "    pl.title('Correlation')\n",
    "    pl.grid()\n",
    "    pl.colorbar()\n",
    "    \n",
    "    #pl.scatter(recover_testY/1000, recover_pred/1000,s=3)\n",
    "    #pl.plot(np.arange(18000)/1000,np.arange(18000)/1000,c='black',linestyle = ':')\n",
    "    #pl.axis([0,18,0,18])\n",
    "    #pl.xticks([0,5,10,15])\n",
    "    #pl.yticks([0,5,10,15])\n",
    "    #pl.xlabel('Observation(km)')\n",
    "    #pl.ylabel('Prediction(km)')\n",
    "    #pl.title('Correlation')\n",
    "    #pl.grid()"
   ]
  },
  {
   "cell_type": "code",
   "execution_count": 15,
   "metadata": {},
   "outputs": [
    {
     "name": "stdout",
     "output_type": "stream",
     "text": [
      "coef.shape= (13,)\n"
     ]
    },
    {
     "name": "stderr",
     "output_type": "stream",
     "text": [
      "/home/utsumi/miniconda2/envs/py27/lib/python2.7/site-packages/ipykernel_launcher.py:71: RankWarning: Polyfit may be poorly conditioned\n"
     ]
    }
   ],
   "source": [
    "bpara  = 5\n",
    "degree = 12\n",
    "coef_b = bpara\n",
    "coef_poly  = mk_coef_polyfit(testY, degree, coef_b)"
   ]
  },
  {
   "cell_type": "code",
   "execution_count": 16,
   "metadata": {},
   "outputs": [
    {
     "name": "stdout",
     "output_type": "stream",
     "text": [
      "((68286, 10), (68286, 1), (7588, 10), (7588, 1))\n",
      "('Training Error:', 0.15041396, 'and', 'Testing Error:', 0.10014132)\n",
      "('Training Error:', 0.064158574, 'and', 'Testing Error:', 0.037868336)\n",
      "('Training Error:', 0.059822302, 'and', 'Testing Error:', 0.034246244)\n",
      "('Training Error:', 0.059024323, 'and', 'Testing Error:', 0.033922322)\n",
      "('Training Error:', 0.05872242, 'and', 'Testing Error:', 0.033828996)\n",
      "testX.min, max 0.0 1.0\n",
      "testY.min, max 0.03722722 0.36570093\n",
      "prediction.min, max 0.04188454 0.32584488\n"
     ]
    }
   ],
   "source": [
    "# Apply error function\n",
    "#Train, Label = unit(reduction), unit(label)\n",
    "#ntrain       = int(0.7*len(reduction))\n",
    "print(trainX.shape, trainY.shape, testX.shape, testY.shape)\n",
    "#dim = [trainX.shape[2], 30, 30, 30,10, trainY.shape[1]]\n",
    "dim = [trainX.shape[1], 30, 30, 30,10, trainY.shape[1]]\n",
    "act = 2\n",
    "expr= 'surf%d.b%d.lat.%d.%d'%(isurf,bpara,latmin,latmax)\n",
    "prediction   = FFN(trainX, trainY, testX, testY, 0.005, 50, 1024*4, dim, act)\n",
    "#prediction   = FFN(trainX, trainY, testX, testY, 0.005, 150, 1024*4, dim, act)\n",
    "print 'testX.min, max', testX.min(), testX.max()\n",
    "print 'testY.min, max', testY.min(), testY.max()\n",
    "print 'prediction.min, max',prediction.min(),prediction.max()"
   ]
  },
  {
   "cell_type": "code",
   "execution_count": 17,
   "metadata": {},
   "outputs": [
    {
     "name": "stdout",
     "output_type": "stream",
     "text": [
      "0.04188454 0.32584488\n"
     ]
    }
   ],
   "source": [
    "print prediction.min(),prediction.max()"
   ]
  },
  {
   "cell_type": "code",
   "execution_count": 18,
   "metadata": {
    "scrolled": false
   },
   "outputs": [
    {
     "name": "stdout",
     "output_type": "stream",
     "text": [
      "('RMSE:', 0.0338)\n",
      "('real RMSE:', 1081.1075)\n",
      "('CC:', 0.7731)\n"
     ]
    },
    {
     "data": {
      "image/png": "[encoded data removed]",
      "text/plain": [
       "<Figure size 1080x1080 with 4 Axes>"
      ]
     },
     "metadata": {
      "needs_background": "light"
     },
     "output_type": "display_data"
    }
   ],
   "source": [
    "Figure(testY, prediction, 50)"
   ]
  },
  {
   "cell_type": "code",
   "execution_count": null,
   "metadata": {},
   "outputs": [],
   "source": []
  },
  {
   "cell_type": "code",
   "execution_count": null,
   "metadata": {},
   "outputs": [],
   "source": []
  },
  {
   "cell_type": "code",
   "execution_count": null,
   "metadata": {},
   "outputs": [],
   "source": []
  },
  {
   "cell_type": "code",
   "execution_count": null,
   "metadata": {},
   "outputs": [],
   "source": []
  },
  {
   "cell_type": "code",
   "execution_count": null,
   "metadata": {},
   "outputs": [],
   "source": []
  },
  {
   "cell_type": "code",
   "execution_count": null,
   "metadata": {},
   "outputs": [],
   "source": []
  },
  {
   "cell_type": "code",
   "execution_count": null,
   "metadata": {},
   "outputs": [],
   "source": []
  },
  {
   "cell_type": "code",
   "execution_count": null,
   "metadata": {},
   "outputs": [],
   "source": []
  },
  {
   "cell_type": "code",
   "execution_count": null,
   "metadata": {},
   "outputs": [],
   "source": []
  },
  {
   "cell_type": "code",
   "execution_count": null,
   "metadata": {},
   "outputs": [],
   "source": []
  }
 ],
 "metadata": {
  "kernelspec": {
   "display_name": "Python 2",
   "language": "python",
   "name": "python2"
  },
  "language_info": {
   "codemirror_mode": {
    "name": "ipython",
    "version": 2
   },
   "file_extension": ".py",
   "mimetype": "text/x-python",
   "name": "python",
   "nbconvert_exporter": "python",
   "pygments_lexer": "ipython2",
   "version": "2.7.16"
  }
 },
 "nbformat": 4,
 "nbformat_minor": 2
}
