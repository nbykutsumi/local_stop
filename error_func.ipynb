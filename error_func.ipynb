{
 "cells": [
  {
   "cell_type": "code",
   "execution_count": 73,
   "metadata": {},
   "outputs": [],
   "source": [
    "import numpy as np\n",
    "import matplotlib.pyplot as plt"
   ]
  },
  {
   "cell_type": "code",
   "execution_count": 110,
   "metadata": {},
   "outputs": [
    {
     "name": "stdout",
     "output_type": "stream",
     "text": [
      "(101,)\n",
      "[ 0  0  0  0  0  1  1  2  3  2  2  6  1  6  6  9 14 15 16 22 24 24 31 42\n",
      " 37 34 50 50 47 45 55 39 49 54 44 28 29 38 33 24 17 17 16 14  8  9 11  6\n",
      "  4  6  5  1  1  2  0  0  0  0  0  0  0  0  0  0  0  0  0  0  0  0  0  0\n",
      "  0  0  0  0  0  0  0  0  0  0  0  0  0  0  0  0  0  0  0  0  0  0  0  0\n",
      "  0  0  0  0]\n",
      "<type 'numpy.ndarray'>\n",
      "coef.shape= (13,)\n"
     ]
    },
    {
     "name": "stderr",
     "output_type": "stream",
     "text": [
      "/home/utsumi/miniconda2/envs/py27/lib/python2.7/site-packages/ipykernel_launcher.py:45: RankWarning: Polyfit may be poorly conditioned\n",
      "/home/utsumi/miniconda2/envs/py27/lib/python2.7/site-packages/ipykernel_launcher.py:10: RankWarning: Polyfit may be poorly conditioned\n",
      "  # Remove the CWD from sys.path while we load stuff.\n"
     ]
    },
    {
     "data": {
      "text/plain": [
       "[<matplotlib.lines.Line2D at 0x7ff718fe9550>]"
      ]
     },
     "execution_count": 110,
     "metadata": {},
     "output_type": "execute_result"
    },
    {
     "data": {
      "image/png": "[encoded data removed]",
      "text/plain": [
       "<Figure size 432x288 with 1 Axes>"
      ]
     },
     "metadata": {
      "needs_background": "light"
     },
     "output_type": "display_data"
    }
   ],
   "source": [
    "def unit(x,Min,Max):\n",
    "    return (x-Min)/(Max-Min)\n",
    "\n",
    "def polyfit_coef(a1obs, degree):\n",
    "    nbind = 100\n",
    "    a1bnd = np.arange(nbins+1).astype('float32')/(nbins)\n",
    "    frequency,_ = np.histogram(a1obs, bins=a1bnd)\n",
    "    g = (wedge - 1)*(-frequency/float(frequency.max()) +1)+1\n",
    "    x = 0.5*(a1bnd[:-1]+a1bnd[1:])\n",
    "    coef = np.polyfit(x,g,deg=degree)  # highest degree coef first.\n",
    "    print 'coef.shape=',coef.shape\n",
    "    return coef[::-1]    \n",
    "\n",
    "def weight_func(a1obs, coef):\n",
    "    degree = len(coef)-1\n",
    "    y = np.zeros(len(a1obs))\n",
    "    for i in range(degree+1):\n",
    "        y = y + coef[i]*(a1obs**i)\n",
    "    return y\n",
    "\n",
    "nobs_all = 10000\n",
    "nobs     = 1000\n",
    "nbins    = 100\n",
    "degree   = 12\n",
    "wedge    = 5\n",
    "np.random.seed(0)\n",
    "a1obs_all = np.random.normal(size=nobs)\n",
    "#Min, Max  = a1obs_all.min(), a1obs_all.max()\n",
    "Min, Max  = a1obs_all.min()*1.2, a1obs_all.max()*3\n",
    "a1obs_all = unit(a1obs_all, Min, Max)\n",
    "a1obs  = a1obs_all[:nobs]\n",
    "\n",
    "a1noise = np.random.normal(size=nobs)\n",
    "a1noise = unit(a1noise,Min,Max)*0.01\n",
    "a1pred  = unit(a1obs + a1noise, Min,Max)\n",
    "\n",
    "a1bnd = np.arange(nbins+1).astype('float32')/(nbins)\n",
    "print a1bnd.shape\n",
    "frequency,_ = np.histogram(a1obs, bins=a1bnd)\n",
    "print frequency\n",
    "print type(frequency)\n",
    "g = (wedge - 1)*(-frequency/float(frequency.max()) +1)+1\n",
    "x = 0.5*(a1bnd[:-1]+a1bnd[1:])\n",
    "\n",
    "coef = np.polyfit(x,g,deg=degree)  # highest degree coef first.\n",
    "coef = coef[::-1]\n",
    "y = np.zeros(len(x))\n",
    "for i in range(degree+1):\n",
    "    y = y + coef[i]*x**i\n",
    "\n",
    "#print x.shape, frequency.shape\n",
    "plt.plot(x,g)\n",
    "plt.plot(x,y)\n",
    "\n",
    "coef2 = polyfit_coef(a1obs, degree)\n",
    "g = weight_func(a1obs, coef)\n",
    "plt.plot(a1obs,g,'.')\n"
   ]
  },
  {
   "cell_type": "code",
   "execution_count": null,
   "metadata": {
    "scrolled": true
   },
   "outputs": [],
   "source": []
  },
  {
   "cell_type": "code",
   "execution_count": null,
   "metadata": {},
   "outputs": [],
   "source": []
  },
  {
   "cell_type": "code",
   "execution_count": null,
   "metadata": {},
   "outputs": [],
   "source": []
  }
 ],
 "metadata": {
  "kernelspec": {
   "display_name": "Python 2",
   "language": "python",
   "name": "python2"
  },
  "language_info": {
   "codemirror_mode": {
    "name": "ipython",
    "version": 2
   },
   "file_extension": ".py",
   "mimetype": "text/x-python",
   "name": "python",
   "nbconvert_exporter": "python",
   "pygments_lexer": "ipython2",
   "version": "2.7.16"
  }
 },
 "nbformat": 4,
 "nbformat_minor": 2
}
