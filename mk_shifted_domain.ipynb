{
 "cells": [
  {
   "cell_type": "code",
   "execution_count": 1,
   "metadata": {},
   "outputs": [],
   "source": [
    "import numpy as np"
   ]
  },
  {
   "cell_type": "code",
   "execution_count": 40,
   "metadata": {},
   "outputs": [
    {
     "name": "stdout",
     "output_type": "stream",
     "text": [
      "(3, 3, 2)\n",
      "[[[0 0]\n",
      "  [1 1]\n",
      "  [2 2]]\n",
      "\n",
      " [[3 3]\n",
      "  [4 4]\n",
      "  [5 5]]\n",
      "\n",
      " [[6 6]\n",
      "  [7 7]\n",
      "  [8 8]]]\n"
     ]
    }
   ],
   "source": [
    "ain=np.array([np.arange(9).reshape(3,3) for i in range(2)])\n",
    "ain = ain.transpose(1,2,0)\n",
    "print ain.shape\n",
    "print ain[:,:,:]"
   ]
  },
  {
   "cell_type": "code",
   "execution_count": 44,
   "metadata": {},
   "outputs": [
    {
     "name": "stdout",
     "output_type": "stream",
     "text": [
      "[[0 1 2]\n",
      " [3 4 5]\n",
      " [6 7 8]]\n",
      "\n",
      "[[-9999 -9999 -9999]\n",
      " [-9999     0     1]\n",
      " [-9999     3     4]]\n"
     ]
    }
   ],
   "source": [
    "dy=1\n",
    "dx=1\n",
    "miss = -9999\n",
    "def shift_array(ain=None, dy=None,dx=None,miss=-9999):\n",
    "    ny,nx,nz = ain.shape\n",
    "    aout = np.ones([ny,nx,nz]).astype(ain.dtype)*miss\n",
    "    if   dy<=0: iy0=0; ey0=ny-abs(dy); iy1=abs(dy); ey1=ny\n",
    "    elif dy> 0: iy0=abs(dy); ey0=ny; iy1=0; ey1=ny-abs(dy)\n",
    "    if   dx<=0: ix0=0; ex0=nx-abs(dx); ix1=abs(dx); ex1=nx\n",
    "    elif dx> 0: ix0=abs(dx); ex0=nx; ix1=0; ex1=nx-abs(dx)\n",
    "    \n",
    "    aout[iy0:ey0,ix0:ex0] = ain[iy1:ey1,ix1:ex1]\n",
    "    return aout\n",
    "aout = shift_array(ain, dy=dy,dx=dx)\n",
    "print ain[:,:,0]\n",
    "print ''\n",
    "print aout[:,:,0]"
   ]
  },
  {
   "cell_type": "code",
   "execution_count": 11,
   "metadata": {},
   "outputs": [
    {
     "name": "stdout",
     "output_type": "stream",
     "text": [
      "[[[-9999 -9999 -9999]\n",
      "  [-9999 -9999 -9999]\n",
      "  [-9999 -9999 -9999]]\n",
      "\n",
      " [[-9999 -9999 -9999]\n",
      "  [-9999 -9999 -9999]\n",
      "  [-9999 -9999 -9999]]]\n"
     ]
    }
   ],
   "source": []
  },
  {
   "cell_type": "code",
   "execution_count": null,
   "metadata": {},
   "outputs": [],
   "source": []
  }
 ],
 "metadata": {
  "kernelspec": {
   "display_name": "Python 2",
   "language": "python",
   "name": "python2"
  },
  "language_info": {
   "codemirror_mode": {
    "name": "ipython",
    "version": 2
   },
   "file_extension": ".py",
   "mimetype": "text/x-python",
   "name": "python",
   "nbconvert_exporter": "python",
   "pygments_lexer": "ipython2",
   "version": "2.7.16"
  }
 },
 "nbformat": 4,
 "nbformat_minor": 2
}
